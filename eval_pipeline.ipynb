{
 "cells": [
  {
   "cell_type": "markdown",
   "metadata": {
    "vscode": {
     "languageId": "plaintext"
    }
   },
   "source": [
    "## Imports"
   ]
  },
  {
   "cell_type": "code",
   "execution_count": 1,
   "metadata": {},
   "outputs": [],
   "source": [
    "import sys\n",
    "from pathlib import Path\n",
    "import torch\n",
    "import gc\n",
    "import pandas as pd\n",
    "import matplotlib.pyplot as plt\n",
    "import seaborn as sns\n",
    "\n",
    "# Add the path to the \"chronos-forecasting\" directory\n",
    "sys.path.append(\"chronos-forecasting\")\n",
    "\n",
    "# import the basepipeline from the folder chronos-forecasting/src/chronos/base.py not from the installed package\n",
    "\n",
    "from src.chronos.chronos import ChronosPipeline, ForecastType"
   ]
  },
  {
   "cell_type": "markdown",
   "metadata": {},
   "source": [
    "## Global Params"
   ]
  },
  {
   "cell_type": "code",
   "execution_count": 2,
   "metadata": {},
   "outputs": [],
   "source": [
    "DEVICE = \"cuda\" if torch.cuda.is_available() else \"cpu\"\n",
    "TOKENIZER_CLASS = \"IQRScaleUniformBins\"\n",
    "MODEL_ID = \"/teamspace/studios/this_studio/chronoslocal/chronos-forecasting/scripts/output/run-5/checkpoint-100000\"\n",
    "MODEL_SIZE= \"tiny\" # or use \"MeanScaleUniformBins\" or \"LogScaleUniformBins\""
   ]
  },
  {
   "cell_type": "markdown",
   "metadata": {},
   "source": [
    "## Load the model"
   ]
  },
  {
   "cell_type": "code",
   "execution_count": 3,
   "metadata": {},
   "outputs": [
    {
     "name": "stdout",
     "output_type": "stream",
     "text": [
      "Using IQR Scaling\n",
      "T-Config: ChronosConfig(tokenizer_class='IQRScaleUniformBins', tokenizer_kwargs={'low_limit': -15.0, 'high_limit': 15.0}, context_length=512, prediction_length=64, n_tokens=4096, n_special_tokens=2, pad_token_id=0, eos_token_id=1, use_eos_token=True, model_type='seq2seq', num_samples=20, temperature=1.0, top_k=50, top_p=1.0)\n"
     ]
    }
   ],
   "source": [
    "pipeline = ChronosPipeline.from_pretrained(\n",
    "    MODEL_ID,  \n",
    "    device_map=DEVICE,\n",
    "    torch_dtype=torch.bfloat16,\n",
    "    tokenizer_class=TOKENIZER_CLASS,\n",
    ")"
   ]
  },
  {
   "cell_type": "markdown",
   "metadata": {},
   "source": [
    "## Helper Functions for the evaluation\n"
   ]
  },
  {
   "cell_type": "code",
   "execution_count": 4,
   "metadata": {},
   "outputs": [
    {
     "name": "stderr",
     "output_type": "stream",
     "text": [
      "/home/zeus/miniconda3/envs/cloudspace/lib/python3.10/site-packages/gluonts/json.py:102: UserWarning: Using `json`-module for json-handling. Consider installing one of `orjson`, `ujson` to speed up serialization and deserialization.\n",
      "  warnings.warn(\n"
     ]
    }
   ],
   "source": [
    "\n",
    "from typing import Iterable\n",
    "import datasets\n",
    "from gluonts.dataset.split import split\n",
    "from gluonts.ev.metrics import MASE, MeanWeightedSumQuantileLoss\n",
    "from gluonts.itertools import batcher\n",
    "from gluonts.model.evaluation import evaluate_forecasts\n",
    "from gluonts.model.forecast import QuantileForecast, SampleForecast\n",
    "from tqdm.auto import tqdm\n",
    "import numpy as np\n",
    "\n",
    "def to_gluonts_univariate(hf_dataset: datasets.Dataset):\n",
    "    series_fields = [\n",
    "        col\n",
    "        for col in hf_dataset.features\n",
    "        if isinstance(hf_dataset.features[col], datasets.Sequence)\n",
    "    ]\n",
    "    series_fields.remove(\"timestamp\")\n",
    "    dataset_length = hf_dataset.info.splits[\"train\"].num_examples * len(series_fields)\n",
    "\n",
    "    # Assumes that all time series in the dataset have the same frequency\n",
    "    dataset_freq = pd.DatetimeIndex(hf_dataset[0][\"timestamp\"]).to_period()[0].freqstr\n",
    "\n",
    "    gts_dataset = []\n",
    "    for hf_entry in hf_dataset:\n",
    "        for field in series_fields:\n",
    "            gts_dataset.append(\n",
    "                {\n",
    "                    \"start\": pd.Period(\n",
    "                        hf_entry[\"timestamp\"][0],\n",
    "                        freq=dataset_freq,\n",
    "                    ),\n",
    "                    \"target\": hf_entry[field],\n",
    "                }\n",
    "            )\n",
    "    assert len(gts_dataset) == dataset_length\n",
    "\n",
    "    return gts_dataset\n",
    "\n",
    "\n",
    "def generate_forecasts(data: Iterable, pipeline: ChronosPipeline, prediction_length: int, batch_size: int):\n",
    "    forecast_outputs = []\n",
    "    for batch in tqdm(batcher(data, batch_size=batch_size)):\n",
    "        context = [torch.tensor(entry[0][\"target\"], dtype=torch.bfloat16) for entry in batch]\n",
    "        forecast_outputs.append(\n",
    "            pipeline.predict(\n",
    "                context,\n",
    "                prediction_length=prediction_length,\n",
    "            ).numpy()\n",
    "        )\n",
    "    forecast_outputs = np.concatenate(forecast_outputs)\n",
    "\n",
    "    # Convert forecast samples into gluonts Forecast objects\n",
    "    forecasts = []\n",
    "    for item, ts in zip(forecast_outputs, data):\n",
    "        forecast_start_date = ts[0][\"start\"] + len(ts[0][\"target\"])\n",
    "\n",
    "        if pipeline.forecast_type == ForecastType.SAMPLES:\n",
    "            forecasts.append(\n",
    "                SampleForecast(samples=item, start_date=forecast_start_date)\n",
    "            )\n",
    "        elif pipeline.forecast_type == ForecastType.QUANTILES:\n",
    "            forecasts.append(\n",
    "                QuantileForecast(\n",
    "                    forecast_arrays=item,\n",
    "                    forecast_keys=list(map(str, pipeline.quantiles)),\n",
    "                    start_date=forecast_start_date,\n",
    "                )\n",
    "            )\n",
    "\n",
    "    return forecasts\n",
    "\n",
    "\n",
    "\n"
   ]
  },
  {
   "cell_type": "code",
   "execution_count": 7,
   "metadata": {},
   "outputs": [
    {
     "name": "stdout",
     "output_type": "stream",
     "text": [
      "Generating forecasts for electricity_15min (370 time series)\n"
     ]
    },
    {
     "data": {
      "application/vnd.jupyter.widget-view+json": {
       "model_id": "cf682180e42847389ff3fdac4b937e61",
       "version_major": 2,
       "version_minor": 0
      },
      "text/plain": [
       "0it [00:00, ?it/s]"
      ]
     },
     "metadata": {},
     "output_type": "display_data"
    }
   ],
   "source": [
    "import yaml\n",
    "\n",
    "\n",
    "dataset_name = \"monash_electricity_hourly\"\n",
    "prediction_length = 24\n",
    "offset = -24\n",
    "num_rolls = 1\n",
    "\n",
    "with open(\"scripts/evaluation/configs/in-domain.yaml\") as fp:\n",
    "    dataset_yaml = yaml.safe_load(fp)\n",
    "\n",
    "result_rows = []\n",
    "\n",
    "for config in dataset_yaml:\n",
    "    dataset_name = config[\"name\"]\n",
    "    prediction_length = config[\"prediction_length\"]\n",
    "    offset = config[\"offset\"]\n",
    "    num_rolls = config[\"num_rolls\"]\n",
    "\n",
    "\n",
    "    ds = datasets.load_dataset(\"autogluon/chronos_datasets\", dataset_name, split=\"train\")\n",
    "    ds.set_format(\"numpy\")  # sequences returned as numpy arrays\n",
    "\n",
    "    gts_dataset = to_gluonts_univariate(ds)\n",
    "\n",
    "    _, test_template = split(gts_dataset, offset=offset)\n",
    "    test_data = test_template.generate_instances(prediction_length, windows=num_rolls)\n",
    "\n",
    "    print(\n",
    "            f\"Generating forecasts for {dataset_name} \"\n",
    "            f\"({len(test_data.input)} time series)\"\n",
    "        )\n",
    "\n",
    "\n",
    "    forecasts = generate_forecasts(test_data, pipeline, prediction_length, batch_size=32)\n",
    "\n",
    "    print(f\"Evaluating forecasts for {dataset_name}\")\n",
    "\n",
    "\n",
    "    metrics = (\n",
    "            evaluate_forecasts(\n",
    "                forecasts,\n",
    "                test_data=test_data,\n",
    "                metrics=[\n",
    "                    MASE(),\n",
    "                    MeanWeightedSumQuantileLoss(np.arange(0.1, 1.0, 0.1)),\n",
    "                ],\n",
    "                batch_size=5000,\n",
    "            )\n",
    "            .reset_index(drop=True)\n",
    "            .to_dict(orient=\"records\")\n",
    "        )\n",
    "    results = {\"dataset\": dataset_name, \"model\": MODEL_SIZE, **metrics[0]}\n",
    "    result_rows.append(results)\n",
    "\n",
    "results_df = (\n",
    "        pd.DataFrame(result_rows)\n",
    "        .rename(\n",
    "            {\"MASE[0.5]\": \"MASE\", \"mean_weighted_sum_quantile_loss\": \"WQL\"},\n",
    "            axis=\"columns\",\n",
    "        )\n",
    ")\n",
    "results_df.to_csv(f\"results_{TOKENIZER_CLASS}_in_domain_full_train_model_{MODEL_SIZE}.csv\", index=False)\n",
    "\n",
    "\n"
   ]
  }
 ],
 "metadata": {
  "kernelspec": {
   "display_name": "chronoslocal",
   "language": "python",
   "name": "python3"
  },
  "language_info": {
   "codemirror_mode": {
    "name": "ipython",
    "version": 3
   },
   "file_extension": ".py",
   "mimetype": "text/x-python",
   "name": "python",
   "nbconvert_exporter": "python",
   "pygments_lexer": "ipython3",
   "version": "3.13.1"
  }
 },
 "nbformat": 4,
 "nbformat_minor": 2
}
